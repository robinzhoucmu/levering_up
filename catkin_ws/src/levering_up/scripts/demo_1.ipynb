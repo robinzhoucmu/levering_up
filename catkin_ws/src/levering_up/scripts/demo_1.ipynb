{
 "cells": [
  {
   "cell_type": "code",
   "execution_count": 195,
   "metadata": {
    "collapsed": true
   },
   "outputs": [],
   "source": [
    "import os\n",
    "import signal\n",
    "import numpy as np\n",
    "import rospy\n",
    "import subprocess \n",
    "import roslib; roslib.load_manifest(\"robot_comm\")\n",
    "import httplib\n",
    "from robot_comm.srv import *\n",
    "from wsg_50_common.srv import *\n",
    "from std_srvs.srv  import Empty \n",
    "roslib.load_manifest(\"netft_rdt_driver\")\n",
    "from netft_rdt_driver.srv import Zero\n",
    "from datetime import date\n",
    "import errno\n",
    "from rosgraph_msgs.msg import Log\n",
    "from geometry_msgs.msg import TransformStamped\n",
    "import tf.transformations as tfm\n",
    "import sys, argparse"
   ]
  },
  {
   "cell_type": "code",
   "execution_count": 196,
   "metadata": {
    "collapsed": true
   },
   "outputs": [],
   "source": [
    "setCart = rospy.ServiceProxy('/robot1_SetCartesian', robot_SetCartesian)\n",
    "getCart = rospy.ServiceProxy('/robot1_GetCartesian', robot_GetCartesian)\n",
    "setJoint = rospy.ServiceProxy('/robot1_SetJoints', robot_SetJoints)\n",
    "setSpeed = rospy.ServiceProxy('/robot1_SetSpeed', robot_SetSpeed)\n",
    "homeGripper = rospy.ServiceProxy('/wsg_50_driver/homing', Empty)\n",
    "closeGripper = rospy.ServiceProxy('/wsg_50_driver/grasp', Move)\n",
    "openGripper = rospy.ServiceProxy('/wsg_50_driver/release', Move)\n",
    "setGripperForce = rospy.ServiceProxy('/wsg_50_driver/set_force', Conf)\n",
    "zeroSensorFingerFront = rospy.ServiceProxy('/netft_1/zero', Zero)\n",
    "zeroSensorFingerBack = rospy.ServiceProxy('/netft_2/zero', Zero)\n",
    "zeroSensorPusher = rospy.ServiceProxy('/netft_3/zero', Zero)\n",
    "clearBuffer = rospy.ServiceProxy('/robot1_ClearBuffer',robot_ClearBuffer)\n",
    "addBuffer = rospy.ServiceProxy('/robot1_AddBuffer',robot_AddBuffer)\n",
    "execBuffer = rospy.ServiceProxy('/robot1_ExecuteBuffer',robot_ExecuteBuffer)\n",
    "setTool = rospy.ServiceProxy('/robot1_SetTool', robot_SetTool)\n",
    "setSpeed = rospy.ServiceProxy('/robot1_SetSpeed', robot_SetSpeed)\n",
    "getIK = rospy.ServiceProxy('/robot1_GetIK', robot_GetIK)\n",
    "setJoints = rospy.ServiceProxy('/robot1_SetJoints', robot_SetJoints)"
   ]
  },
  {
   "cell_type": "code",
   "execution_count": 197,
   "metadata": {
    "collapsed": false
   },
   "outputs": [
    {
     "data": {
      "text/plain": [
       "x: 117.97\n",
       "y: 365.97\n",
       "z: -57.35\n",
       "q0: 0.0394\n",
       "qx: -0.0749\n",
       "qy: -0.9964\n",
       "qz: 0.0\n",
       "ret: 1\n",
       "msg: ROBOT_CONTROLLER: OK."
      ]
     },
     "execution_count": 197,
     "metadata": {},
     "output_type": "execute_result"
    }
   ],
   "source": [
    "getCart()"
   ]
  },
  {
   "cell_type": "code",
   "execution_count": 222,
   "metadata": {
    "collapsed": false
   },
   "outputs": [
    {
     "data": {
      "text/plain": [
       "ret: 1\n",
       "msg: ROBOT_CONTROLLER: OK."
      ]
     },
     "execution_count": 222,
     "metadata": {},
     "output_type": "execute_result"
    }
   ],
   "source": [
    "#Length from robot phalange to center of the gripper finger.\n",
    "toolZ0 = 145\n",
    "setTool(0, 0, toolZ0, 0, 0, 1, 0)"
   ]
  },
  {
   "cell_type": "code",
   "execution_count": 223,
   "metadata": {
    "collapsed": false
   },
   "outputs": [
    {
     "data": {
      "text/plain": [
       "x: 118.1\n",
       "y: 345.0\n",
       "z: -14.1\n",
       "q0: 1.0\n",
       "qx: 0.0\n",
       "qy: 0.0\n",
       "qz: 0.0\n",
       "ret: 1\n",
       "msg: ROBOT_CONTROLLER: OK."
      ]
     },
     "execution_count": 223,
     "metadata": {},
     "output_type": "execute_result"
    }
   ],
   "source": [
    "getCart()"
   ]
  },
  {
   "cell_type": "code",
   "execution_count": 256,
   "metadata": {
    "collapsed": false
   },
   "outputs": [
    {
     "data": {
      "text/plain": [
       "ret: 1\n",
       "msg: ROBOT_CONTROLLER: OK."
      ]
     },
     "execution_count": 256,
     "metadata": {},
     "output_type": "execute_result"
    }
   ],
   "source": [
    "setSpeed(10,5)\n",
    "# Set the z height such that the finger patch upper point aligns (1.5 mm above) with \n",
    "# the top edge of the object when the object is resting on the platform.\n",
    "pos0 = [120, 345, -77]\n",
    "quat0 = [1, 0, 0, 0]\n",
    "setCart(pos0[0], pos0[1], pos0[2], quat0[0],quat0[1],quat0[2],quat0[3])"
   ]
  },
  {
   "cell_type": "code",
   "execution_count": 258,
   "metadata": {
    "collapsed": false
   },
   "outputs": [
    {
     "data": {
      "text/plain": [
       "error: 0"
      ]
     },
     "execution_count": 258,
     "metadata": {},
     "output_type": "execute_result"
    }
   ],
   "source": [
    "closeGripper(5.0, 5.0)"
   ]
  },
  {
   "cell_type": "code",
   "execution_count": 251,
   "metadata": {
    "collapsed": false
   },
   "outputs": [
    {
     "data": {
      "text/plain": [
       "error: 0"
      ]
     },
     "execution_count": 251,
     "metadata": {},
     "output_type": "execute_result"
    }
   ],
   "source": [
    "openGripper(20, 5)"
   ]
  },
  {
   "cell_type": "code",
   "execution_count": 266,
   "metadata": {
    "collapsed": false
   },
   "outputs": [
    {
     "data": {
      "text/plain": [
       "ret: 1\n",
       "msg: ROBOT_CONTROLLER: OK."
      ]
     },
     "execution_count": 266,
     "metadata": {},
     "output_type": "execute_result"
    }
   ],
   "source": [
    "#Move to touch the other piece\n",
    "setTool(0, 0, toolZ0, 0, 0, 1, 0)\n",
    "dx = 42.8\n",
    "setCart(pos0[0] - dx, pos0[1], pos0[2], quat0[0],quat0[1],quat0[2],quat0[3])"
   ]
  },
  {
   "cell_type": "code",
   "execution_count": 259,
   "metadata": {
    "collapsed": false
   },
   "outputs": [
    {
     "data": {
      "text/plain": []
     },
     "execution_count": 259,
     "metadata": {},
     "output_type": "execute_result"
    }
   ],
   "source": [
    "zeroSensorFingerFront()\n",
    "zeroSensorFingerBack()"
   ]
  },
  {
   "cell_type": "code",
   "execution_count": 260,
   "metadata": {
    "collapsed": false
   },
   "outputs": [
    {
     "name": "stdout",
     "output_type": "stream",
     "text": [
      "0.0\n",
      "0.00698131700798\n",
      "0.013962634016\n",
      "0.0209439510239\n",
      "0.0279252680319\n",
      "0.0349065850399\n",
      "0.0418879020479\n",
      "0.0488692190558\n",
      "0.0558505360638\n",
      "0.0628318530718\n"
     ]
    }
   ],
   "source": [
    "# Simple geometry computation of COR w.r.t. the contact frame. \n",
    "h1 = 6.21\n",
    "w1 = 76.00\n",
    "# piece with rubber total thickness.\n",
    "#h2 = 8.00\n",
    "h2 = 6.80\n",
    "# rough height from the center of the finger to the bottom of the piece/ground.\n",
    "w2 = 76.00 - 19.8/2 + 1.5\n",
    "num_thetas = 10\n",
    "tot_theta = np.pi/45\n",
    "cor = np.zeros((num_thetas, 2), float)\n",
    "for i in range(num_thetas):\n",
    "    theta = tot_theta * i/(num_thetas + 0.0) \n",
    "    print theta\n",
    "    l2 = np.sqrt(h2*h2 - np.square(w1*np.sin(theta)))\n",
    "    l1 = w1 * np.cos(theta) + h1 * np.sin(theta)\n",
    "\n",
    "    p1 = np.array([0, h1])\n",
    "    p3 = np.array([l1, w1 * np.sin(theta)])\n",
    "\n",
    "    cor[i,:] = p3 + l2/l1 * (p3 - p1)"
   ]
  },
  {
   "cell_type": "code",
   "execution_count": 261,
   "metadata": {
    "collapsed": false
   },
   "outputs": [
    {
     "data": {
      "text/plain": [
       "(76.0,\n",
       " 67.6,\n",
       " 76.23996048682568,\n",
       " 4.8443015385308099,\n",
       " array([ 0.  ,  6.21]),\n",
       " array([ 76.23996049,   4.77207948]),\n",
       " array([[  8.28000000e+01,  -5.55631579e-01],\n",
       "        [  8.28207706e+01,   2.42424747e-02],\n",
       "        [  8.27959935e+01,   6.06554916e-01],\n",
       "        [  8.27244912e+01,   1.19047794e+00],\n",
       "        [  8.26041744e+01,   1.77520224e+00],\n",
       "        [  8.24318165e+01,   2.35991555e+00],\n",
       "        [  8.22026572e+01,   2.94377856e+00],\n",
       "        [  8.19097044e+01,   3.52589441e+00],\n",
       "        [  8.15424464e+01,   4.10526422e+00],\n",
       "        [  8.10842620e+01,   4.68071374e+00]]))"
      ]
     },
     "execution_count": 261,
     "metadata": {},
     "output_type": "execute_result"
    }
   ],
   "source": [
    "w1,w2,l1, l2, p1, p3, cor"
   ]
  },
  {
   "cell_type": "code",
   "execution_count": 262,
   "metadata": {
    "collapsed": false
   },
   "outputs": [
    {
     "name": "stdout",
     "output_type": "stream",
     "text": [
      "0.00698131700798 0.0781052387383\n",
      "x: 80.6\n",
      "y: 344.99\n",
      "z: -145.2\n",
      "q0: 1.0\n",
      "qx: 0.0\n",
      "qy: 0.0\n",
      "qz: 0.0\n",
      "ret: 1\n",
      "msg: ROBOT_CONTROLLER: OK. [[ 0.99923754]\n",
      " [ 0.        ]\n",
      " [ 0.03904269]\n",
      " [ 0.        ]]\n",
      "j1: 19.2\n",
      "j2: 0.54\n",
      "j3: -16.43\n",
      "j4: -43.82\n",
      "j5: 21.53\n",
      "j6: 131.75\n",
      "ret: 1\n",
      "msg: ROBOT_CONTROLLER: OK.\n",
      "0.013962634016 0.15668825906\n",
      "x: 80.62\n",
      "y: 345.0\n",
      "z: -144.6\n",
      "q0: 0.9998\n",
      "qx: -0.0017\n",
      "qy: 0.0173\n",
      "qz: 0.0002\n",
      "ret: 1\n",
      "msg: ROBOT_CONTROLLER: OK. [[ 0.99693267]\n",
      " [ 0.        ]\n",
      " [ 0.07826401]\n",
      " [ 0.        ]]\n",
      "j1: 14.57\n",
      "j2: -0.35\n",
      "j3: -15.54\n",
      "j4: -19.7\n",
      "j5: 16.82\n",
      "j6: 108.91\n",
      "ret: 1\n",
      "msg: ROBOT_CONTROLLER: OK.\n",
      "0.0209439510239 0.236254004907\n",
      "x: 80.69\n",
      "y: 345.0\n",
      "z: -144.0\n",
      "q0: 0.9984\n",
      "qx: -0.0024\n",
      "qy: 0.057\n",
      "qz: 0.0004\n",
      "ret: 1\n",
      "msg: ROBOT_CONTROLLER: OK. [[ 0.99303111]\n",
      " [ 0.        ]\n",
      " [ 0.11785247]\n",
      " [ 0.        ]]\n",
      "j1: 9.77\n",
      "j2: -0.49\n",
      "j3: -15.4\n",
      "j4: 13.53\n",
      "j5: 16.32\n",
      "j6: 77.0\n",
      "ret: 1\n",
      "msg: ROBOT_CONTROLLER: OK.\n",
      "0.0279252680319 0.317366197647\n",
      "x: 80.71\n",
      "y: 345.0\n",
      "z: -143.4\n",
      "q0: 0.9953\n",
      "qx: -0.0028\n",
      "qy: 0.0963\n",
      "qz: 0.0003\n",
      "ret: 1\n",
      "msg: ROBOT_CONTROLLER: OK. [[ 0.98743623]\n",
      " [ 0.        ]\n",
      " [ 0.15801799]\n",
      " [ 0.        ]]\n",
      "j1: 4.95\n",
      "j2: 0.18\n",
      "j3: -16.07\n",
      "j4: 40.66\n",
      "j5: 20.57\n",
      "j6: 51.2\n",
      "ret: 1\n",
      "msg: ROBOT_CONTROLLER: OK.\n",
      "0.0349065850399 0.400689366629\n",
      "x: 80.79\n",
      "y: 345.01\n",
      "z: -142.79\n",
      "q0: 0.9909\n",
      "qx: -0.0027\n",
      "qy: 0.1346\n",
      "qz: 0.0001\n",
      "ret: 1\n",
      "msg: ROBOT_CONTROLLER: OK. [[ 0.97999804]\n",
      " [ 0.        ]\n",
      " [ 0.19900713]\n",
      " [ 0.        ]]\n",
      "j1: 0.27\n",
      "j2: 1.68\n",
      "j3: -17.59\n",
      "j4: 56.74\n",
      "j5: 27.46\n",
      "j6: 36.47\n",
      "ret: 1\n",
      "msg: ROBOT_CONTROLLER: OK.\n",
      "0.0418879020479 0.487051188235\n",
      "x: 80.81\n",
      "y: 345.0\n",
      "z: -142.16\n",
      "q0: 0.9848\n",
      "qx: -0.002\n",
      "qy: 0.1735\n",
      "qz: 0.0001\n",
      "ret: 1\n",
      "msg: ROBOT_CONTROLLER: OK. [[ 0.9704939 ]\n",
      " [ 0.        ]\n",
      " [ 0.24112569]\n",
      " [ 0.        ]]\n",
      "j1: -4.1\n",
      "j2: 4.08\n",
      "j3: -20.12\n",
      "j4: 66.16\n",
      "j5: 35.41\n",
      "j6: 28.47\n",
      "ret: 1\n",
      "msg: ROBOT_CONTROLLER: OK.\n",
      "0.0488692190558 0.577544097392\n",
      "x: 80.87\n",
      "y: 345.0\n",
      "z: -141.65\n",
      "q0: 0.9772\n",
      "qx: -0.0012\n",
      "qy: 0.2123\n",
      "qz: 0.0001\n",
      "ret: 1\n",
      "msg: ROBOT_CONTROLLER: OK. [[ 0.95859429]\n",
      " [ 0.        ]\n",
      " [ 0.28477533]\n",
      " [ 0.        ]]\n",
      "j1: -8.07\n",
      "j2: 7.48\n",
      "j3: -23.86\n",
      "j4: 72.13\n",
      "j5: 43.76\n",
      "j6: 24.06\n",
      "ret: 1\n",
      "msg: ROBOT_CONTROLLER: OK.\n",
      "0.0558505360638 0.673707087257\n",
      "x: 80.91\n",
      "y: 345.0\n",
      "z: -141.01\n",
      "q0: 0.9686\n",
      "qx: -0.0005\n",
      "qy: 0.2486\n",
      "qz: 0.0\n",
      "ret: 1\n",
      "msg: ROBOT_CONTROLLER: OK. [[ 0.9437993 ]\n",
      " [ 0.        ]\n",
      " [ 0.33051911]\n",
      " [ 0.        ]]\n",
      "j1: -11.53\n",
      "j2: 12.05\n",
      "j3: -29.2\n",
      "j4: 76.16\n",
      "j5: 52.23\n",
      "j6: 21.91\n",
      "ret: 1\n",
      "msg: ROBOT_CONTROLLER: OK.\n",
      "0.0628318530718 0.777887989218\n",
      "x: 80.97\n",
      "y: 344.99\n",
      "z: -140.32\n",
      "q0: 0.9561\n",
      "qx: -0.0005\n",
      "qy: 0.2931\n",
      "qz: -0.0002\n",
      "ret: 1\n",
      "msg: ROBOT_CONTROLLER: OK. [[ 0.92531003]\n",
      " [ 0.        ]\n",
      " [ 0.37921149]\n",
      " [ 0.        ]]\n",
      "j1: -14.45\n",
      "j2: 18.28\n",
      "j3: -37.09\n",
      "j4: 79.05\n",
      "j5: 60.84\n",
      "j6: 21.67\n",
      "ret: 1\n",
      "msg: ROBOT_CONTROLLER: OK.\n",
      "0.0698131700798 0.894076652045\n",
      "x: 81.05\n",
      "y: 344.98\n",
      "z: -139.58\n",
      "q0: 0.9406\n",
      "qx: -0.0005\n",
      "qy: 0.3395\n",
      "qz: -0.0005\n",
      "ret: 1\n",
      "msg: ROBOT_CONTROLLER: OK. [[ 0.90173138]\n",
      " [ 0.        ]\n",
      " [ 0.4322968 ]\n",
      " [ 0.        ]]\n",
      "j1: -16.75\n",
      "j2: 27.61\n",
      "j3: -50.22\n",
      "j4: 81.16\n",
      "j5: 69.75\n",
      "j6: 24.2\n",
      "ret: 1\n",
      "msg: ROBOT_CONTROLLER: OK.\n",
      "j1: -16.57\n",
      "j2: 38.26\n",
      "j3: -67.36\n",
      "j4: 81.44\n",
      "j5: 75.02\n",
      "j6: 30.22\n",
      "ret: 1\n",
      "msg: ROBOT_CONTROLLER: OK.\n"
     ]
    }
   ],
   "source": [
    "for i in range(num_thetas):\n",
    "    setTool(-(cor[i,0] - (w1 + h2/2)), 0, toolZ0 + w2 - cor[i,1], 0,0,1,0)\n",
    "    theta = tot_theta * (i + 1 )/(num_thetas + 0.0) \n",
    "    angle = np.arcsin(w1*np.sin(theta)/h2) \n",
    "    print theta,angle\n",
    "    q = np.zeros((4,1), float)\n",
    "    q[0] = np.cos(angle/2.0)\n",
    "    # rotation about y. \n",
    "    q[2] = np.sin(angle/2.0)\n",
    "    cur_cart = getCart()\n",
    "    print cur_cart,q\n",
    "    print getIK(cur_cart.x, cur_cart.y, cur_cart.z, q[0], q[1], q[2], q[3])\n",
    "    setCart(cur_cart.x, cur_cart.y, cur_cart.z, q[0], q[1], q[2], q[3])\n",
    "    if i == num_thetas -1:\n",
    "        angle = angle + 5.0/180.0 * np.pi\n",
    "        q[0] = np.cos(angle/2.0)\n",
    "        # rotation about y. \n",
    "        q[2] = np.sin(angle/2.0)\n",
    "        push_in_dist = 10\n",
    "        cur_cart.x = cur_cart.x - push_in_dist\n",
    "        print getIK(cur_cart.x, cur_cart.y, cur_cart.z, q[0], q[1], q[2], q[3])\n",
    "        setCart(cur_cart.x, cur_cart.y, cur_cart.z, q[0], q[1], q[2], q[3])"
   ]
  },
  {
   "cell_type": "code",
   "execution_count": 263,
   "metadata": {
    "collapsed": false
   },
   "outputs": [
    {
     "data": {
      "text/plain": [
       "error: 0"
      ]
     },
     "execution_count": 263,
     "metadata": {},
     "output_type": "execute_result"
    }
   ],
   "source": [
    "    openGripper(15, 5)"
   ]
  },
  {
   "cell_type": "code",
   "execution_count": 264,
   "metadata": {
    "collapsed": false
   },
   "outputs": [
    {
     "data": {
      "text/plain": [
       "x: 71.0\n",
       "y: 345.0\n",
       "z: -139.6\n",
       "q0: 0.882\n",
       "qx: 0.0\n",
       "qy: 0.4712\n",
       "qz: 0.0\n",
       "ret: 1\n",
       "msg: ROBOT_CONTROLLER: OK."
      ]
     },
     "execution_count": 264,
     "metadata": {},
     "output_type": "execute_result"
    }
   ],
   "source": [
    "cart = getCart()\n",
    "cart"
   ]
  },
  {
   "cell_type": "code",
   "execution_count": 267,
   "metadata": {
    "collapsed": false
   },
   "outputs": [
    {
     "data": {
      "text/plain": [
       "ret: 1\n",
       "msg: ROBOT_CONTROLLER: OK."
      ]
     },
     "execution_count": 267,
     "metadata": {},
     "output_type": "execute_result"
    }
   ],
   "source": [
    "cart = getCart()\n",
    "setCart(cart.x+50, cart.y, cart.z + 100, cart.q0, cart.qx, cart.qy, cart.qz)"
   ]
  },
  {
   "cell_type": "code",
   "execution_count": 95,
   "metadata": {
    "collapsed": false
   },
   "outputs": [
    {
     "data": {
      "text/plain": [
       "ret: 1\n",
       "msg: ROBOT_CONTROLLER: OK."
      ]
     },
     "execution_count": 95,
     "metadata": {},
     "output_type": "execute_result"
    }
   ],
   "source": [
    "setSpeed(10,5)\n",
    "setCart(cart.x , cart.y, cart.z, 0.99, 0, 0.10, 0)"
   ]
  },
  {
   "cell_type": "code",
   "execution_count": 131,
   "metadata": {
    "collapsed": false
   },
   "outputs": [
    {
     "data": {
      "text/plain": [
       "ret: 1\n",
       "msg: ROBOT_CONTROLLER: OK."
      ]
     },
     "execution_count": 131,
     "metadata": {},
     "output_type": "execute_result"
    }
   ],
   "source": [
    "q = getIK(cart.x, cart.y, cart.z, cart.q0, cart.qx, cart.qy, cart.qz)\n",
    "#setJoints(q.j1, q.j2, q.j3, q.j4, q.j5, q.j6)\n",
    "setCart(cart.x, cart.y, cart.z, cart.q0, cart.qx, cart.qy, cart.qz)"
   ]
  },
  {
   "cell_type": "code",
   "execution_count": 110,
   "metadata": {
    "collapsed": false
   },
   "outputs": [
    {
     "data": {
      "text/plain": [
       "6.0423284190541038"
      ]
     },
     "execution_count": 110,
     "metadata": {},
     "output_type": "execute_result"
    }
   ],
   "source": [
    "np.arcsin(8.0/76) / np.pi * 180"
   ]
  },
  {
   "cell_type": "code",
   "execution_count": 119,
   "metadata": {
    "collapsed": false
   },
   "outputs": [
    {
     "data": {
      "text/plain": [
       "j1: 24.92\n",
       "j2: -9.33\n",
       "j3: 28.2\n",
       "j4: -124.84\n",
       "j5: 30.89\n",
       "j6: 219.05\n",
       "ret: 1\n",
       "msg: ROBOT_CONTROLLER: OK."
      ]
     },
     "execution_count": 119,
     "metadata": {},
     "output_type": "execute_result"
    }
   ],
   "source": [
    "q"
   ]
  },
  {
   "cell_type": "code",
   "execution_count": 125,
   "metadata": {
    "collapsed": false
   },
   "outputs": [
    {
     "data": {
      "text/plain": [
       "-4.0"
      ]
     },
     "execution_count": 125,
     "metadata": {},
     "output_type": "execute_result"
    }
   ],
   "source": [
    "-(cor[0,0] - (w1 + h2/2))"
   ]
  },
  {
   "cell_type": "code",
   "execution_count": 165,
   "metadata": {
    "collapsed": false
   },
   "outputs": [
    {
     "data": {
      "text/plain": [
       "0.08726646259971647"
      ]
     },
     "execution_count": 165,
     "metadata": {},
     "output_type": "execute_result"
    }
   ],
   "source": [
    "5.0/180 * np.pi"
   ]
  },
  {
   "cell_type": "code",
   "execution_count": 174,
   "metadata": {
    "collapsed": false
   },
   "outputs": [
    {
     "data": {
      "text/plain": [
       "0.84107679597673357"
      ]
     },
     "execution_count": 174,
     "metadata": {},
     "output_type": "execute_result"
    }
   ],
   "source": [
    "np.arcsin(np.sin(np.pi/40) * w1 / h2) "
   ]
  },
  {
   "cell_type": "code",
   "execution_count": null,
   "metadata": {
    "collapsed": true
   },
   "outputs": [],
   "source": []
  }
 ],
 "metadata": {
  "kernelspec": {
   "display_name": "Python 2",
   "language": "python",
   "name": "python2"
  },
  "language_info": {
   "codemirror_mode": {
    "name": "ipython",
    "version": 2
   },
   "file_extension": ".py",
   "mimetype": "text/x-python",
   "name": "python",
   "nbconvert_exporter": "python",
   "pygments_lexer": "ipython2",
   "version": "2.7.6"
  }
 },
 "nbformat": 4,
 "nbformat_minor": 1
}
